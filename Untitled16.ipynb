{
 "cells": [
  {
   "cell_type": "markdown",
   "id": "fe97048d",
   "metadata": {},
   "source": [
    "# Q1. What is Abstraction in OOps? Explain with an example."
   ]
  },
  {
   "cell_type": "code",
   "execution_count": null,
   "id": "ad57ec46",
   "metadata": {},
   "outputs": [],
   "source": [
    "'''abstraction is a concept in object-oriented programming (OOP) that allows you to represent complex real-world entities as classes,\n",
    "focusing on essential features and hiding unnecessary implementation details.'''"
   ]
  },
  {
   "cell_type": "code",
   "execution_count": 2,
   "id": "0e6d1518",
   "metadata": {},
   "outputs": [
    {
     "name": "stdout",
     "output_type": "stream",
     "text": [
      "15\n",
      "16\n"
     ]
    }
   ],
   "source": [
    "from abc import ABC, abstractmethod\n",
    "class Shape(ABC):\n",
    "    @abstractmethod\n",
    "    def area(self):\n",
    "        pass\n",
    "\n",
    "    @abstractmethod\n",
    "    def perimeter(self):\n",
    "        pass\n",
    "class Rectangle(Shape):\n",
    "    def __init__(self, length, width):\n",
    "        self.length = length\n",
    "        self.width = width\n",
    "\n",
    "    def area(self):\n",
    "        return self.length * self.width\n",
    "\n",
    "    def perimeter(self):\n",
    "        return 2 * (self.length + self.width)\n",
    "rect = Rectangle(5, 3)\n",
    "print(rect.area())    \n",
    "print(rect.perimeter()) \n"
   ]
  },
  {
   "cell_type": "markdown",
   "id": "ab72bc6c",
   "metadata": {},
   "source": [
    "# Q2. Differentiate between Abstraction and Encapsulation. Explain with an example."
   ]
  },
  {
   "cell_type": "code",
   "execution_count": null,
   "id": "c2cc7771",
   "metadata": {},
   "outputs": [],
   "source": [
    "'''Abstraction is the process of hiding the implementation details of a class or object from its users. \n",
    "This allows users to focus on the object's functionality without having to worry about how it works internally.\n",
    "Abstraction is achieved by using methods and properties. \n",
    "\n",
    "Encapsulation is the process of bundling together data and the methods that operate on that data.\n",
    "This makes the data and its associated methods private to the class or object, and prevents other classes or objects from accessing them directly. \n",
    "Encapsulation is achieved by using access modifiers (public, private, and protected).'''"
   ]
  },
  {
   "cell_type": "code",
   "execution_count": 3,
   "id": "b9bd587e",
   "metadata": {},
   "outputs": [
    {
     "name": "stdout",
     "output_type": "stream",
     "text": [
      "The engine is starting.\n",
      "The car is driving.\n",
      "The car is stopping.\n"
     ]
    }
   ],
   "source": [
    "class Car:\n",
    "\n",
    "    def __init__(self, make, model, year):\n",
    "        self.make = make\n",
    "        self.model = model\n",
    "        self.year = year\n",
    "\n",
    "    def start_engine(self):\n",
    "        print(\"The engine is starting.\")\n",
    "\n",
    "    def drive(self):\n",
    "        print(\"The car is driving.\")\n",
    "\n",
    "    def stop(self):\n",
    "        print(\"The car is stopping.\")\n",
    "\n",
    "\n",
    "car = Car(\"Tesla\", \"Model S\", 2022)\n",
    "car.start_engine()\n",
    "car.drive()\n",
    "car.stop()\n"
   ]
  },
  {
   "cell_type": "markdown",
   "id": "5f06dea6",
   "metadata": {},
   "source": [
    "# Q3. What is abc module in python? Why is it used?"
   ]
  },
  {
   "cell_type": "code",
   "execution_count": null,
   "id": "1c7f716e",
   "metadata": {},
   "outputs": [],
   "source": [
    "'''\n",
    "\n",
    "The abc module in Python provides the infrastructure for defining abstract base classes (ABCs). ABCs are classes that cannot be instantiated, but they can be used to define interfaces. Interfaces are a way of specifying the functionality that a class must provide.\n",
    "\n",
    "ABCs are used in Python for a variety of purposes, including:\n",
    "\n",
    "Enforcing type safety: ABCs can be used to ensure that objects are of the correct type. For example, the collections.MutableSequence ABC can be used to ensure that an object is a mutable sequence, such as a list or a string.\n",
    "Providing documentation: ABCs can be used to provide documentation about the expected behavior of a class. For example, the collections.Sequence ABC specifies that all sequences must have a __getitem__() method.\n",
    "Testing: ABCs can be used to write unit tests for classes. For example, a unit test for a collections.Sequence subclass could check that the __getitem__() method returns the correct value.'''"
   ]
  },
  {
   "cell_type": "markdown",
   "id": "de339799",
   "metadata": {},
   "source": [
    "# Q4. How can we achieve data abstraction?"
   ]
  },
  {
   "cell_type": "code",
   "execution_count": null,
   "id": "9d055208",
   "metadata": {},
   "outputs": [],
   "source": [
    "'''\n",
    "1.Using abstract classes: Abstract classes are classes that cannot be instantiated. They are used to define the interface for a class, but they do not provide any implementation. This allows users to focus on the functionality of the class without having to worry about how it works internally.\n",
    "2.Using interfaces: Interfaces are similar to abstract classes, but they cannot contain any data members. This makes interfaces even more abstract, and they are often used to define the contract for a class.\n",
    "3.Using encapsulation: Encapsulation is the process of hiding the implementation details of an object from its users. This can be done by using access modifiers, such as public, protected, and private.\n",
    "4.Using modules: Modules are a way of grouping together related code. This can help to improve the readability and maintainability of code.\n",
    "5.Using functions: Functions are a way of grouping together related code. This can help to improve the readability and maintainability of code.'''"
   ]
  },
  {
   "cell_type": "markdown",
   "id": "67c169fc",
   "metadata": {},
   "source": [
    "# Q5. Can we create an instance of an abstract class? Explain your answer."
   ]
  },
  {
   "cell_type": "code",
   "execution_count": null,
   "id": "83bef2ab",
   "metadata": {},
   "outputs": [],
   "source": [
    "'''No, we cannot create an instance of an abstract class in Python. An abstract class is a class that cannot be instantiated directly. This is because an abstract class may have methods that are not implemented. \n",
    "Any class that inherits from an abstract class must implement all of the abstract methods in the abstract class.'''"
   ]
  },
  {
   "cell_type": "code",
   "execution_count": 4,
   "id": "008f941d",
   "metadata": {},
   "outputs": [],
   "source": [
    "from abc import abstractmethod\n",
    "\n",
    "class AbstractClass(object):\n",
    "\n",
    "    @abstractmethod\n",
    "    def method1(self):\n",
    "        pass\n",
    "\n",
    "    @abstractmethod\n",
    "    def method2(self):\n",
    "        pass\n",
    "\n",
    "class ConcreteClass(AbstractClass):\n",
    "\n",
    "    def method1(self):\n",
    "        print(\"This is method1\")\n",
    "\n",
    "    def method2(self):\n",
    "        print(\"This is method2\")\n",
    "\n",
    "obj = AbstractClass()\n"
   ]
  }
 ],
 "metadata": {
  "kernelspec": {
   "display_name": "Python 3 (ipykernel)",
   "language": "python",
   "name": "python3"
  },
  "language_info": {
   "codemirror_mode": {
    "name": "ipython",
    "version": 3
   },
   "file_extension": ".py",
   "mimetype": "text/x-python",
   "name": "python",
   "nbconvert_exporter": "python",
   "pygments_lexer": "ipython3",
   "version": "3.9.13"
  }
 },
 "nbformat": 4,
 "nbformat_minor": 5
}
